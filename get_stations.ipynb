{
 "cells": [
  {
   "cell_type": "code",
   "execution_count": 21,
   "id": "9e213e42-a629-4348-b509-2fb95ff925b3",
   "metadata": {},
   "outputs": [],
   "source": [
    "from obspy.clients.fdsn import Client\n",
    "from obspy import UTCDateTime\n",
    "import sys\n",
    "import time as ti"
   ]
  },
  {
   "cell_type": "code",
   "execution_count": 13,
   "id": "231bfcbe-1eab-4d1a-9e31-22460a35928c",
   "metadata": {},
   "outputs": [],
   "source": [
    "import os\n",
    "file = 'station_info.txt'"
   ]
  },
  {
   "cell_type": "code",
   "execution_count": 14,
   "id": "9bd885e4-337a-4839-a5ab-948f04e6da31",
   "metadata": {},
   "outputs": [
    {
     "data": {
      "text/plain": [
       "'C:\\\\Users\\\\kickk\\\\USC Research\\\\HVSR'"
      ]
     },
     "execution_count": 14,
     "metadata": {},
     "output_type": "execute_result"
    }
   ],
   "source": [
    "os.getcwd()"
   ]
  },
  {
   "cell_type": "code",
   "execution_count": null,
   "id": "3cef4f41-c63a-4b1b-8bd0-6dea476c9b7d",
   "metadata": {},
   "outputs": [
    {
     "name": "stdout",
     "output_type": "stream",
     "text": [
      "--> Trying for client: SCEDC\n",
      "Failed to try ---- SCEDC \n",
      " (<class 'obspy.clients.fdsn.header.FDSNTimeoutException'>, FDSNTimeoutException('Timed Out'), <traceback object at 0x00000244968C1AC0>)\n",
      "--> Trying for client: IRIS\n"
     ]
    }
   ],
   "source": [
    "clients = ['SCEDC','IRIS']\n",
    "\n",
    "\n",
    "# Define parameters\n",
    "time = UTCDateTime('1994-01-01T00:00:00.001')\n",
    "\n",
    "starttime = time\n",
    "endtime = UTCDateTime('2022-01-01T00:00:00.001')\n",
    "# net = \"NC\"\n",
    "net = \"*\"\n",
    "stn = \"*\"\n",
    "channel = \"*\"\n",
    "count = 0\n",
    "# success = False\n",
    "lst = []\n",
    "\n",
    "# Timing the code execution\n",
    "start = ti.time_ns()\n",
    "for cl in clients:\n",
    "    try:\n",
    "        print(f\"--> Trying for client: {cl}\")\n",
    "        client = Client(cl)\n",
    "\n",
    "        inventory = client.get_stations(network=net, station=stn, channel=channel,\n",
    "                                        minlatitude = 32.5, maxlatitude = 34.5,\n",
    "                                        minlongitude = -119.75, maxlongitude = -114.9,\n",
    "                                        level=\"response\", starttime=starttime, endtime=endtime)\n",
    "        \n",
    "\n",
    "        f_path = os.path.join(os.getcwd(), cl + '_' + file)\n",
    "        \n",
    "        if inventory not in lst:\n",
    "            print(inventory)\n",
    "            \n",
    "            lst.append(inventory)\n",
    "            inventory.write(f_path, format='STATIONTXT',level='station')\n",
    "            \n",
    "        end = ti.time_ns()\n",
    "            \n",
    "            \n",
    "        print(f\"The program took {end-start} ns to run\")\n",
    "\n",
    "    except:\n",
    "        print(f'Failed to try ---- {cl} \\n', sys.exc_info())\n",
    "\n",
    "        \n",
    "    count += 1"
   ]
  }
 ],
 "metadata": {
  "kernelspec": {
   "display_name": "Python 3.8.8 ('base')",
   "language": "python",
   "name": "python3"
  },
  "language_info": {
   "codemirror_mode": {
    "name": "ipython",
    "version": 3
   },
   "file_extension": ".py",
   "mimetype": "text/x-python",
   "name": "python",
   "nbconvert_exporter": "python",
   "pygments_lexer": "ipython3",
   "version": "3.8.8"
  },
  "vscode": {
   "interpreter": {
    "hash": "ad2bdc8ecc057115af97d19610ffacc2b4e99fae6737bb82f5d7fb13d2f2c186"
   }
  }
 },
 "nbformat": 4,
 "nbformat_minor": 5
}
